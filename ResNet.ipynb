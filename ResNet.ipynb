{
 "cells": [
  {
   "cell_type": "markdown",
   "id": "3ee6350e-a7f9-4475-9669-027e8e5515d1",
   "metadata": {},
   "source": [
    "# 从零实现ResNet（Pytorch）"
   ]
  },
  {
   "cell_type": "markdown",
   "id": "403636b9-bb82-4825-a068-0c327ddb1253",
   "metadata": {},
   "source": [
    "## ResNet结构"
   ]
  },
  {
   "cell_type": "markdown",
   "id": "1e5d7fee-5869-4d7a-8263-086068f09c24",
   "metadata": {},
   "source": [
    "ResNet的残差结构"
   ]
  },
  {
   "cell_type": "markdown",
   "id": "db5e19f2-8384-44c1-9e11-2720a6544fed",
   "metadata": {},
   "source": [
    "![ResNet](https://blog.paperspace.com/content/images/2022/06/image-9.png)"
   ]
  },
  {
   "cell_type": "markdown",
   "id": "a5cebbf0-5526-4fdc-ae5b-9d6eb2e9a10d",
   "metadata": {},
   "source": [
    "h(x) = f(wx +b) to h(x) = f(x) + x"
   ]
  },
  {
   "cell_type": "markdown",
   "id": "9e4c36ca-f0c9-493b-8cf4-416b3751812b",
   "metadata": {},
   "source": [
    "![ResNet](https://blog.paperspace.com/content/images/2022/06/image-10.png)"
   ]
  },
  {
   "cell_type": "markdown",
   "id": "a5ad1d26-b43f-4d4f-aaa3-77afdc8dad8d",
   "metadata": {},
   "source": [
    "# Code"
   ]
  },
  {
   "cell_type": "code",
   "execution_count": 2,
   "id": "ba63642a-1d57-4ee8-9382-c31fc1066be8",
   "metadata": {},
   "outputs": [],
   "source": [
    "import numpy as np\n",
    "import torch\n",
    "import torch.nn as nn\n",
    "from torchvision import datasets\n",
    "from torchvision import transforms\n",
    "from torch.utils.data.sampler import SubsetRandomSampler\n",
    "\n",
    "\n",
    "# Device configuration\n",
    "device = torch.device('cuda' if torch.cuda.is_available() else 'cpu')"
   ]
  },
  {
   "cell_type": "markdown",
   "id": "701f7723-64e2-4ca2-ad30-a98778758aea",
   "metadata": {
    "tags": []
   },
   "source": [
    "## 数据加载"
   ]
  },
  {
   "cell_type": "markdown",
   "id": "7dbb9843-3f8b-4ebf-b2f7-280f0c8c2cc9",
   "metadata": {},
   "source": [
    "- 在深度学习项目中标准化我们的数据始终是一个很好的做法，因为它使训练更快、更容易收敛。 为此，我们使用数据集中每个通道（红色、绿色和蓝色）的平均值和标准差定义变量归一化。 这些可以手动计算，但也可以在线获取。 这用在变换变量中，我们在其中调整数据大小，将其转换为张量，然后对其进行标准化。\n",
    "- 我们使用数据加载器。 数据加载器允许我们批量迭代数据，并且数据在迭代时加载，而不是在启动时一次性全部加载到 RAM 中。 如果我们处理大约百万张图像的大型数据集，这非常有帮助。\n",
    "- 根据测试参数，我们要么加载训练集（如果 test=False）分割，要么加载测试（如果 test=True）分割。 对于训练集，分割被随机分为训练集和验证集（0.9:0.1）。"
   ]
  },
  {
   "cell_type": "code",
   "execution_count": 4,
   "id": "c2453e17-4368-490a-aa62-4c42444d3340",
   "metadata": {},
   "outputs": [
    {
     "name": "stdout",
     "output_type": "stream",
     "text": [
      "Files already downloaded and verified\n",
      "Files already downloaded and verified\n",
      "Files already downloaded and verified\n"
     ]
    }
   ],
   "source": [
    "def data_loader(data_dir,\n",
    "                batch_size,\n",
    "                random_seed=42,\n",
    "                valid_size=0.1,\n",
    "                shuffle=True,\n",
    "                test=False):\n",
    "  \n",
    "    normalize = transforms.Normalize(\n",
    "        mean=[0.4914, 0.4822, 0.4465],\n",
    "        std=[0.2023, 0.1994, 0.2010],\n",
    "    )\n",
    "\n",
    "    # define transforms\n",
    "    transform = transforms.Compose([\n",
    "            transforms.Resize((224,224)),\n",
    "            transforms.ToTensor(),\n",
    "            normalize,\n",
    "    ])\n",
    "\n",
    "    if test:\n",
    "        dataset = datasets.CIFAR10(\n",
    "          root=data_dir, train=False,\n",
    "          download=True, transform=transform,\n",
    "        )\n",
    "\n",
    "        data_loader = torch.utils.data.DataLoader(\n",
    "            dataset, batch_size=batch_size, shuffle=shuffle\n",
    "        )\n",
    "\n",
    "        return data_loader\n",
    "\n",
    "    # load the dataset\n",
    "    train_dataset = datasets.CIFAR10(\n",
    "        root=data_dir, train=True,\n",
    "        download=True, transform=transform,\n",
    "    )\n",
    "\n",
    "    valid_dataset = datasets.CIFAR10(\n",
    "        root=data_dir, train=True,\n",
    "        download=True, transform=transform,\n",
    "    )\n",
    "\n",
    "    num_train = len(train_dataset)\n",
    "    indices = list(range(num_train))\n",
    "    split = int(np.floor(valid_size * num_train))\n",
    "\n",
    "    if shuffle:\n",
    "        np.random.seed(42)\n",
    "        np.random.shuffle(indices)\n",
    "\n",
    "    train_idx, valid_idx = indices[split:], indices[:split]\n",
    "    train_sampler = SubsetRandomSampler(train_idx)\n",
    "    valid_sampler = SubsetRandomSampler(valid_idx)\n",
    "\n",
    "    train_loader = torch.utils.data.DataLoader(\n",
    "        train_dataset, batch_size=batch_size, sampler=train_sampler)\n",
    " \n",
    "    valid_loader = torch.utils.data.DataLoader(\n",
    "        valid_dataset, batch_size=batch_size, sampler=valid_sampler)\n",
    "\n",
    "    return (train_loader, valid_loader)\n",
    "\n",
    "\n",
    "# CIFAR10 dataset \n",
    "train_loader, valid_loader = data_loader(data_dir='./data',\n",
    "                                         batch_size=64)\n",
    "\n",
    "test_loader = data_loader(data_dir='./data',\n",
    "                              batch_size=64,\n",
    "                              test=True)"
   ]
  },
  {
   "cell_type": "markdown",
   "id": "d2cc8834-0826-4c04-a691-3c8a53ac4aff",
   "metadata": {},
   "source": [
    "# 从零开始ResNet"
   ]
  },
  {
   "cell_type": "markdown",
   "id": "ec79c07a-1bf0-4ae2-b432-3cb9560f0ece",
   "metadata": {},
   "source": [
    "nn.Module 提供了用于创建自定义模型的样板以及一些有助于训练的必要功能。 这就是为什么每个自定义模型都倾向于继承 nn.Module，每个自定义模型内部都有两个主要功能。\n",
    "- 第一个是初始化函数 __init__，我们在其中定义将使用的各个层。\n",
    "- 第二个是前向函数，它定义在给定输入上执行上述层的顺序。"
   ]
  },
  {
   "cell_type": "markdown",
   "id": "87117cd5-8dd8-4cb5-9160-28c6c7b72b37",
   "metadata": {},
   "source": [
    "## Layers in PyTorch"
   ]
  },
  {
   "cell_type": "markdown",
   "id": "c9eeebe8-e042-4085-b8a6-cf0a2b05277a",
   "metadata": {},
   "source": [
    "- nn.Conv2d：这些是卷积层，接受输入和输出通道的数量作为参数，以及滤波器的内核大小。 如果我们想应用这些，它也接受任何步幅或填充。\n",
    "- nn.BatchNorm2d：这将批量归一化应用于卷积层的输出。\n",
    "- nn.ReLU：这是一种应用于网络中各种输出的激活函数。\n",
    "- nn.MaxPool2d ：这将最大池化应用于给定内核大小的输出。\n",
    "- nn.Dropout：用于以给定概率将 dropout 应用于输出。\n",
    "- nn.Linear：这基本上是一个全连接层。\n",
    "- nn.Sequential：从技术上讲，这不是一种层，但它有助于组合属于同一步骤的不同操作。"
   ]
  },
  {
   "cell_type": "markdown",
   "id": "8a4d93ba-0b2e-47b0-a539-f276aba84ee6",
   "metadata": {},
   "source": [
    "## Residual Block"
   ]
  },
  {
   "cell_type": "code",
   "execution_count": 6,
   "id": "0b74855a-fbe4-44bd-95b8-cb876d2e1397",
   "metadata": {},
   "outputs": [],
   "source": [
    "class ResidualBlock(nn.Module):\n",
    "    def __init__(self, in_channels, out_channels, stride = 1, downsample = None):\n",
    "        super(ResidualBlock, self).__init__()\n",
    "        self.conv1 = nn.Sequential(\n",
    "                        nn.Conv2d(in_channels, out_channels, kernel_size = 3, stride = stride, padding = 1),\n",
    "                        nn.BatchNorm2d(out_channels),\n",
    "                        nn.ReLU())\n",
    "        self.conv2 = nn.Sequential(\n",
    "                        nn.Conv2d(out_channels, out_channels, kernel_size = 3, stride = 1, padding = 1),\n",
    "                        nn.BatchNorm2d(out_channels))\n",
    "        self.downsample = downsample\n",
    "        self.relu = nn.ReLU()\n",
    "        self.out_channels = out_channels\n",
    "        \n",
    "    def forward(self, x):\n",
    "        residual = x\n",
    "        out = self.conv1(x)\n",
    "        out = self.conv2(out)\n",
    "        if self.downsample:\n",
    "            residual = self.downsample(x)\n",
    "        out += residual\n",
    "        out = self.relu(out)\n",
    "        return out"
   ]
  },
  {
   "cell_type": "markdown",
   "id": "34792c37-3e66-480c-8cfb-230b0ffb1588",
   "metadata": {},
   "source": [
    "## ResNet34"
   ]
  },
  {
   "cell_type": "markdown",
   "id": "def4476c-40d5-44c7-965f-805a36fe8089",
   "metadata": {},
   "source": [
    "请注意，该架构中有三个块，分别包含 3、3、6 和 3 层。 为了制作这个块，我们创建一个辅助函数 _make_layer。 该函数将各层与残差块一起添加。 在块之后，我们添加平均池化和最终的线性层。"
   ]
  },
  {
   "cell_type": "code",
   "execution_count": 7,
   "id": "2a9a0c25-eb03-4ab2-86ff-778933b99a7a",
   "metadata": {},
   "outputs": [],
   "source": [
    "class ResNet(nn.Module):\n",
    "    def __init__(self, block, layers, num_classes = 10):\n",
    "        super(ResNet, self).__init__()\n",
    "        self.inplanes = 64\n",
    "        self.conv1 = nn.Sequential(\n",
    "                        nn.Conv2d(3, 64, kernel_size = 7, stride = 2, padding = 3),\n",
    "                        nn.BatchNorm2d(64),\n",
    "                        nn.ReLU())\n",
    "        self.maxpool = nn.MaxPool2d(kernel_size = 3, stride = 2, padding = 1)\n",
    "        self.layer0 = self._make_layer(block, 64, layers[0], stride = 1)\n",
    "        self.layer1 = self._make_layer(block, 128, layers[1], stride = 2)\n",
    "        self.layer2 = self._make_layer(block, 256, layers[2], stride = 2)\n",
    "        self.layer3 = self._make_layer(block, 512, layers[3], stride = 2)\n",
    "        self.avgpool = nn.AvgPool2d(7, stride=1)\n",
    "        self.fc = nn.Linear(512, num_classes)\n",
    "        \n",
    "    def _make_layer(self, block, planes, blocks, stride=1):\n",
    "        downsample = None\n",
    "        if stride != 1 or self.inplanes != planes:\n",
    "            \n",
    "            downsample = nn.Sequential(\n",
    "                nn.Conv2d(self.inplanes, planes, kernel_size=1, stride=stride),\n",
    "                nn.BatchNorm2d(planes),\n",
    "            )\n",
    "        layers = []\n",
    "        layers.append(block(self.inplanes, planes, stride, downsample))\n",
    "        self.inplanes = planes\n",
    "        for i in range(1, blocks):\n",
    "            layers.append(block(self.inplanes, planes))\n",
    "\n",
    "        return nn.Sequential(*layers)\n",
    "    \n",
    "    \n",
    "    def forward(self, x):\n",
    "        x = self.conv1(x)\n",
    "        x = self.maxpool(x)\n",
    "        x = self.layer0(x)\n",
    "        x = self.layer1(x)\n",
    "        x = self.layer2(x)\n",
    "        x = self.layer3(x)\n",
    "\n",
    "        x = self.avgpool(x)\n",
    "        x = x.view(x.size(0), -1)\n",
    "        x = self.fc(x)\n",
    "\n",
    "        return x"
   ]
  },
  {
   "cell_type": "markdown",
   "id": "ce0f459d-6e1a-453d-b6bb-d465fe57c5bf",
   "metadata": {},
   "source": [
    "## 超参数设置"
   ]
  },
  {
   "cell_type": "code",
   "execution_count": 9,
   "id": "61b648c1-cafc-480c-8a50-f56194a35cc2",
   "metadata": {},
   "outputs": [],
   "source": [
    "num_classes = 10\n",
    "num_epochs = 20\n",
    "batch_size = 16\n",
    "learning_rate = 0.01\n",
    "\n",
    "model = ResNet(ResidualBlock, [3, 4, 6, 3]).to(device)\n",
    "\n",
    "# Loss and optimizer\n",
    "criterion = nn.CrossEntropyLoss()\n",
    "optimizer = torch.optim.SGD(model.parameters(), lr=learning_rate, weight_decay = 0.001, momentum = 0.9)  \n",
    "\n",
    "# Train the model\n",
    "total_step = len(train_loader)"
   ]
  },
  {
   "cell_type": "markdown",
   "id": "2879cfa9-0549-4044-aa22-024424c8f93b",
   "metadata": {},
   "source": [
    "## Train"
   ]
  },
  {
   "cell_type": "code",
   "execution_count": null,
   "id": "d98b073c-583c-4022-99ca-7cbc51601213",
   "metadata": {},
   "outputs": [],
   "source": [
    "import gc\n",
    "total_step = len(train_loader)\n",
    "\n",
    "for epoch in range(num_epochs):\n",
    "    for i, (images, labels) in enumerate(train_loader):  \n",
    "        # Move tensors to the configured device\n",
    "        images = images.to(device)\n",
    "        labels = labels.to(device)\n",
    "        \n",
    "        # Forward pass\n",
    "        outputs = model(images)\n",
    "        loss = criterion(outputs, labels)\n",
    "        \n",
    "        # Backward and optimize\n",
    "        optimizer.zero_grad()\n",
    "        loss.backward()\n",
    "        optimizer.step()\n",
    "        del images, labels, outputs\n",
    "        torch.cuda.empty_cache()\n",
    "        gc.collect()\n",
    "\n",
    "    print ('Epoch [{}/{}], Loss: {:.4f}' \n",
    "                   .format(epoch+1, num_epochs, loss.item()))\n",
    "            \n",
    "    # Validation\n",
    "    with torch.no_grad():\n",
    "        correct = 0\n",
    "        total = 0\n",
    "        for images, labels in valid_loader:\n",
    "            images = images.to(device)\n",
    "            labels = labels.to(device)\n",
    "            outputs = model(images)\n",
    "            _, predicted = torch.max(outputs.data, 1)\n",
    "            total += labels.size(0)\n",
    "            correct += (predicted == labels).sum().item()\n",
    "            del images, labels, outputs\n",
    "    \n",
    "        print('Accuracy of the network on the {} validation images: {} %'.format(5000, 100 * correct / total)) "
   ]
  },
  {
   "cell_type": "markdown",
   "id": "d7c6c99e-3b06-44a8-b5a6-27f093fa024a",
   "metadata": {},
   "source": [
    "## Test"
   ]
  },
  {
   "cell_type": "code",
   "execution_count": null,
   "id": "ba0877c3-cb36-4293-bf86-7de2cd72d5e7",
   "metadata": {},
   "outputs": [],
   "source": [
    "with torch.no_grad():\n",
    "    correct = 0\n",
    "    total = 0\n",
    "    for images, labels in test_loader:\n",
    "        images = images.to(device)\n",
    "        labels = labels.to(device)\n",
    "        outputs = model(images)\n",
    "        _, predicted = torch.max(outputs.data, 1)\n",
    "        total += labels.size(0)\n",
    "        correct += (predicted == labels).sum().item()\n",
    "        del images, labels, outputs\n",
    "\n",
    "    print('Accuracy of the network on the {} test images: {} %'.format(10000, 100 * correct / total))   "
   ]
  },
  {
   "cell_type": "markdown",
   "id": "3f071bba-bec8-4ccc-8bcb-06c69421924f",
   "metadata": {},
   "source": [
    "[cankao](https://blog.paperspace.com/writing-resnet-from-scratch-in-pytorch/)"
   ]
  },
  {
   "cell_type": "code",
   "execution_count": null,
   "id": "c719005c-5b25-49d4-b067-022d09cac029",
   "metadata": {},
   "outputs": [],
   "source": []
  }
 ],
 "metadata": {
  "kernelspec": {
   "display_name": "Python 3 (ipykernel)",
   "language": "python",
   "name": "python3"
  },
  "language_info": {
   "codemirror_mode": {
    "name": "ipython",
    "version": 3
   },
   "file_extension": ".py",
   "mimetype": "text/x-python",
   "name": "python",
   "nbconvert_exporter": "python",
   "pygments_lexer": "ipython3",
   "version": "3.8.11"
  }
 },
 "nbformat": 4,
 "nbformat_minor": 5
}
